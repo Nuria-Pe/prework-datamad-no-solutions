{
 "cells": [
  {
   "cell_type": "markdown",
   "metadata": {},
   "source": [
    "<img src=\"https://bit.ly/2VnXWr2\" width=\"100\" align=\"left\">"
   ]
  },
  {
   "cell_type": "markdown",
   "metadata": {},
   "source": [
    "# Bus\n",
    "\n",
    "This bus has a passenger entry and exit control system to monitor the number of occupants it carries and thus detect when there are too many.\n",
    "\n",
    "At each stop, the entry and exit of passengers is represented by a tuple consisting of two integer numbers.\n",
    "```\n",
    "bus_stop = (in, out)\n",
    "```\n",
    "The succession of stops is represented by a list of these tuples.\n",
    "```\n",
    "stops = [(in1, out1), (in2, out2), (in3, out3), (in4, out4)]\n",
    "```\n",
    "\n",
    "## Tools\n",
    "You don't necessarily need to use all the tools. Maybe you opt to use some of them or completely different ones, they are given to help you shape the exercise. Programming exercises can be solved in many different ways.\n",
    "* Data structures: **lists, tuples**\n",
    "* Loop: **while/for loops**\n",
    "* Functions: **min, max, len**\n",
    "\n",
    "## Tasks"
   ]
  },
  {
   "cell_type": "code",
   "execution_count": 3,
   "metadata": {},
   "outputs": [],
   "source": [
    "# Variables\n",
    "stops = [(10, 0), (4, 1), (3, 5), (3, 4), (5, 1), (1, 5), (5, 8), (4, 6), (2, 3)]"
   ]
  },
  {
   "cell_type": "markdown",
   "metadata": {},
   "source": [
    "#### 1. Calculate the number of stops."
   ]
  },
  {
   "cell_type": "code",
   "execution_count": 4,
   "metadata": {},
   "outputs": [
    {
     "name": "stdout",
     "output_type": "stream",
     "text": [
      "9\n"
     ]
    }
   ],
   "source": [
    "stops = [(10, 0), (4, 1), (3, 5), (3, 4), (5, 1), (1, 5), (5, 8), (4, 6), (2, 3)]\n",
    "print(len(stops)) "
   ]
  },
  {
   "cell_type": "markdown",
   "metadata": {},
   "source": [
    "#### 2. Assign to a variable a list whose elements are the number of passengers at each stop (in-out).\n",
    "Each item depends on the previous item in the list + in - out."
   ]
  },
  {
   "cell_type": "code",
   "execution_count": 5,
   "metadata": {},
   "outputs": [
    {
     "name": "stdout",
     "output_type": "stream",
     "text": [
      "10\n",
      "13\n",
      "11\n",
      "10\n",
      "14\n",
      "10\n",
      "7\n",
      "5\n",
      "4\n"
     ]
    }
   ],
   "source": [
    "stop_1 = stops[0]\n",
    "list(stop_1)\n",
    "people_1stop = stop_1[0]-stop_1[1]\n",
    "print(people_1stop)\n",
    "stop_2 = stops[1]\n",
    "list(stop_2)\n",
    "people_2stop = stop_2[0]-stop_2[1]+people_1stop\n",
    "print(people_2stop)\n",
    "stop_3 = stops[2]\n",
    "list(stop_3)\n",
    "people_3stop = stop_3[0]-stop_3[1]+people_2stop\n",
    "print(people_3stop)\n",
    "stop_4 = stops[3]\n",
    "list(stop_4)\n",
    "people_4stop = stop_4[0]-stop_4[1]+people_3stop\n",
    "print(people_4stop)\n",
    "stop_5 = stops[4]\n",
    "list(stop_5)\n",
    "people_5stop = stop_5[0]-stop_5[1]+people_4stop\n",
    "print(people_5stop)\n",
    "stop_6 = stops[5]\n",
    "list(stop_6)\n",
    "people_6stop = stop_6[0]-stop_6[1]+people_5stop\n",
    "print(people_6stop)\n",
    "stop_7 = stops[6]\n",
    "list(stop_7)\n",
    "people_7stop = stop_7[0]-stop_7[1]+people_6stop\n",
    "print(people_7stop)\n",
    "stop_8 = stops[7]\n",
    "list(stop_8)\n",
    "people_8stop = stop_8[0]-stop_8[1]+people_7stop\n",
    "print(people_8stop)\n",
    "stop_9 = stops[8]\n",
    "list(stop_9)\n",
    "people_9stop = stop_9[0]-stop_9[1]+people_8stop\n",
    "print(people_9stop)"
   ]
  },
  {
   "cell_type": "markdown",
   "metadata": {},
   "source": [
    "#### 3. Find the maximum occupation of the bus."
   ]
  },
  {
   "cell_type": "code",
   "execution_count": 8,
   "metadata": {},
   "outputs": [
    {
     "name": "stdout",
     "output_type": "stream",
     "text": [
      "14\n"
     ]
    }
   ],
   "source": [
    "passengers_count = [10, 13,11, 10, 14, 10, 7, 5, 4]\n",
    "print(max(passengers_count))"
   ]
  },
  {
   "cell_type": "markdown",
   "metadata": {},
   "source": [
    "#### 4. Calculate the average occupation. And the standard deviation."
   ]
  },
  {
   "cell_type": "code",
   "execution_count": 9,
   "metadata": {},
   "outputs": [
    {
     "name": "stdout",
     "output_type": "stream",
     "text": [
      "9.333333333333334\n"
     ]
    }
   ],
   "source": [
    "num = sum(passengers_count)\n",
    "den = len(passengers_count)\n",
    "avg = num / den\n",
    "print(avg)"
   ]
  }
 ],
 "metadata": {
  "kernelspec": {
   "display_name": "Python 3",
   "language": "python",
   "name": "python3"
  },
  "language_info": {
   "codemirror_mode": {
    "name": "ipython",
    "version": 3
   },
   "file_extension": ".py",
   "mimetype": "text/x-python",
   "name": "python",
   "nbconvert_exporter": "python",
   "pygments_lexer": "ipython3",
   "version": "3.8.5"
  }
 },
 "nbformat": 4,
 "nbformat_minor": 2
}
